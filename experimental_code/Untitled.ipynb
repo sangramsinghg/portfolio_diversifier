{
 "cells": [
  {
   "cell_type": "code",
   "execution_count": 20,
   "id": "99c3accc",
   "metadata": {},
   "outputs": [],
   "source": [
    "import csv\n",
    "import sys\n",
    "import fire\n",
    "import questionary\n",
    "from pathlib import Path\n",
    "import pandas as pd"
   ]
  },
  {
   "cell_type": "code",
   "execution_count": 21,
   "id": "ed848d3e",
   "metadata": {},
   "outputs": [],
   "source": [
    "\n",
    "\"\"\" Functions to pull the ratios\"\"\"\n",
    "def load_ratios():\n",
    "    \"\"\"Writes account information from CSV to list.\"\"\"\n",
    "    csvpath = Path('../risk_ret.csv')\n",
    "    ratios = []\n",
    "    with open(csvpath, newline='') as csvfile:\n",
    "        rows = csv.reader(csvfile)\n",
    "        header = next(rows)\n",
    "        for row in rows:\n",
    "            ticker = str(row[0])\n",
    "            warp = float(row[3])\n",
    "            sortino = float(row[4])\n",
    "            ret_to_maxdd = float(row[5])\n",
    "            sharpe = float(row[6])\n",
    "            sortino = float(row[7])\n",
    "            max_dd = float(row[8])\n",
    "            ratio = {\n",
    "                \"ticker\" : ticker,\n",
    "                \"WARP\" : warp,\n",
    "                \"Sortino\" : sortino,\n",
    "                \"Ret_To_MaxDD\" : ret_to_maxdd,\n",
    "                \"Sharpe\" : sharpe,\n",
    "                \"Sortino\" : sortino,\n",
    "                \"Max_DD\" : max_dd\n",
    "            }\n",
    "            ratios.append(ratio)\n",
    "        return ratios"
   ]
  },
  {
   "cell_type": "code",
   "execution_count": 25,
   "id": "05de586a",
   "metadata": {},
   "outputs": [
    {
     "name": "stdout",
     "output_type": "stream",
     "text": [
      "         WARP   Sortino  Ret_To_MaxDD    Sharpe    Max_DD\n",
      "0    3.480137  1.096890      2.263503  0.773863  0.534040\n",
      "1    9.349883  1.021375      6.324512  0.718678  0.217621\n",
      "2   -5.064786  0.728424     -9.717003  0.505721  0.342465\n",
      "3   32.580725  0.838836     33.646921  0.577914  0.265854\n",
      "4   18.977827  1.209351     17.452130  0.820369  0.104014\n",
      "5    4.764816  2.187242      2.161225  1.420665  0.022314\n",
      "6   13.566785  0.711232     14.451388  0.501032  0.455550\n",
      "7   -7.087935  0.435672     -7.295900  0.318425  0.762802\n",
      "8  -25.703543  0.296051    -29.937966  0.213238  0.610373\n",
      "9  -24.927244  0.367608    -26.738102  0.255426  0.664343\n",
      "10 -19.897080  0.427255    -22.995290  0.301443  0.705002\n",
      "11 -34.307049  0.148429    -35.448633  0.106641  0.712628\n",
      "12   1.282483  1.004950      0.450172  0.706368  0.530359\n",
      "13 -28.016335  0.327147    -33.381212  0.226557  0.822147\n",
      "14  15.997764  0.747675     16.336068  0.523960  0.443638\n",
      "15   8.045606  1.668971    -74.232061  1.224764  0.198211\n"
     ]
    }
   ],
   "source": [
    "ratios_df = pd.DataFrame(load_ratios())\n",
    "print(ratios)"
   ]
  },
  {
   "cell_type": "code",
   "execution_count": 34,
   "id": "a6303c81",
   "metadata": {},
   "outputs": [],
   "source": [
    "tickers = [\"shy\",\"gld\",\"tlt\",\"xle\"]\n",
    "ratios_df = pd.DataFrame(load_ratios())\n",
    "ratios_df = ratios_df.set_index(\"ticker\")"
   ]
  },
  {
   "cell_type": "code",
   "execution_count": 35,
   "id": "62d220e4",
   "metadata": {},
   "outputs": [
    {
     "data": {
      "text/plain": [
       "['qqq',\n",
       " 'lqd',\n",
       " 'hyg',\n",
       " 'tlt',\n",
       " 'ief',\n",
       " 'shy',\n",
       " 'gld',\n",
       " 'slv',\n",
       " 'efa',\n",
       " 'eem',\n",
       " 'iyr',\n",
       " 'xle',\n",
       " 'xlk',\n",
       " 'xlf',\n",
       " 'GC=F',\n",
       " 'RPAR']"
      ]
     },
     "execution_count": 35,
     "metadata": {},
     "output_type": "execute_result"
    }
   ],
   "source": [
    "ratios_df.index.values.tolist()"
   ]
  },
  {
   "cell_type": "code",
   "execution_count": 38,
   "id": "2694c21c",
   "metadata": {},
   "outputs": [],
   "source": [
    "all_tickers = ratios_df.index.values.tolist()\n",
    "for ticker in tickers:\n",
    "    all_tickers.remove(ticker)"
   ]
  },
  {
   "cell_type": "code",
   "execution_count": 39,
   "id": "57d8bd6f",
   "metadata": {},
   "outputs": [
    {
     "data": {
      "text/plain": [
       "['qqq',\n",
       " 'lqd',\n",
       " 'hyg',\n",
       " 'ief',\n",
       " 'slv',\n",
       " 'efa',\n",
       " 'eem',\n",
       " 'iyr',\n",
       " 'xlk',\n",
       " 'xlf',\n",
       " 'GC=F',\n",
       " 'RPAR']"
      ]
     },
     "execution_count": 39,
     "metadata": {},
     "output_type": "execute_result"
    }
   ],
   "source": [
    "all_tickers"
   ]
  },
  {
   "cell_type": "code",
   "execution_count": 41,
   "id": "d1a37bbf",
   "metadata": {},
   "outputs": [
    {
     "data": {
      "text/plain": [
       "['qqq',\n",
       " 'lqd',\n",
       " 'hyg',\n",
       " 'ief',\n",
       " 'slv',\n",
       " 'efa',\n",
       " 'eem',\n",
       " 'iyr',\n",
       " 'xlk',\n",
       " 'xlf',\n",
       " 'GC=F',\n",
       " 'RPAR']"
      ]
     },
     "execution_count": 41,
     "metadata": {},
     "output_type": "execute_result"
    }
   ],
   "source": [
    "choices = (all_tickers)\n",
    "choices"
   ]
  },
  {
   "cell_type": "code",
   "execution_count": 44,
   "id": "2020c310",
   "metadata": {},
   "outputs": [
    {
     "name": "stdout",
     "output_type": "stream",
     "text": [
      "['shy', 'gld', 'tlt', 'xle', 'e', 'e', 'm', 'e', 'e', 'm', 'i', 'y', 'r', 'eem', 'iyr']\n"
     ]
    }
   ],
   "source": [
    "tickers_to_be_added = ['eem',\"iyr\"]\n",
    "for ticker in tickers_to_be_added:\n",
    "    tickers.append(ticker)\n",
    "print(tickers)"
   ]
  },
  {
   "cell_type": "code",
   "execution_count": 3,
   "id": "db49f941",
   "metadata": {},
   "outputs": [
    {
     "name": "stdout",
     "output_type": "stream",
     "text": [
      "Based on your age we recoment a diversification of 20% stocks - 80% bonds\n"
     ]
    }
   ],
   "source": [
    "recommended_percent = \"20% stocks - 80% bonds\"\n",
    "\n",
    "print(f\"Based on your age we recoment a diversification of {recommended_percent}\")"
   ]
  },
  {
   "cell_type": "code",
   "execution_count": null,
   "id": "bcea87cb",
   "metadata": {},
   "outputs": [],
   "source": []
  }
 ],
 "metadata": {
  "kernelspec": {
   "display_name": "Python (dev)",
   "language": "python",
   "name": "dev"
  },
  "language_info": {
   "codemirror_mode": {
    "name": "ipython",
    "version": 3
   },
   "file_extension": ".py",
   "mimetype": "text/x-python",
   "name": "python",
   "nbconvert_exporter": "python",
   "pygments_lexer": "ipython3",
   "version": "3.7.10"
  }
 },
 "nbformat": 4,
 "nbformat_minor": 5
}
