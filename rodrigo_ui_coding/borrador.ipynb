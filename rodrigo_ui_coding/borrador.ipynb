{
 "cells": [
  {
   "cell_type": "code",
   "execution_count": null,
   "id": "5c54a7e9",
   "metadata": {},
   "outputs": [],
   "source": [
    "invalid_input = True\n",
    "def ask_age():\n",
    "    \"\"\"Ask for the age of the client.\n",
    "    Returns:\n",
    "        The age of the client.\n",
    "    \"\"\"\n",
    "    age = questionary.text(\"Please enter your age\").ask()\n",
    "    \"\"\"\n",
    "    If under age, exit the system \n",
    "    If age is unreasonable, exit the system\n",
    "    If age is not a number, restart the fucntion\n",
    "    \"\"\"    \n",
    "    if age < 18:\n",
    "        invalid_input = False\n",
    "        sys.exit(\"You must be 18 or older to use this application\")\n",
    "    elif age > 150:\n",
    "        invalid_input = False\n",
    "        sys.exit(\"Age seems to be too large\")\n",
    "    elif age != str:\n",
    "        print(\"Sorry, that was an invalid command, please retry\")\n",
    "    else:\n",
    "        invalid_input = False \n",
    "    return age\n",
    "    while invalid_input:\n",
    "        ask_age()"
   ]
  }
 ],
 "metadata": {
  "kernelspec": {
   "display_name": "Python (dev)",
   "language": "python",
   "name": "dev"
  },
  "language_info": {
   "codemirror_mode": {
    "name": "ipython",
    "version": 3
   },
   "file_extension": ".py",
   "mimetype": "text/x-python",
   "name": "python",
   "nbconvert_exporter": "python",
   "pygments_lexer": "ipython3",
   "version": "3.7.10"
  }
 },
 "nbformat": 4,
 "nbformat_minor": 5
}
